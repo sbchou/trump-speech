{
 "cells": [
  {
   "cell_type": "code",
   "execution_count": 16,
   "metadata": {
    "collapsed": false
   },
   "outputs": [],
   "source": [
    "%matplotlib inline\n",
    "import matplotlib.pyplot as plt\n",
    "import pandas\n",
    "import inspect\n",
    "from datetime import datetime\n",
    "import seaborn as sns\n",
    "import glob\n",
    "from os.path import basename\n",
    "sns.set_context('poster')"
   ]
  },
  {
   "cell_type": "code",
   "execution_count": 2,
   "metadata": {
    "collapsed": true
   },
   "outputs": [],
   "source": [
    "# Make your word tokenizer. We don't care about punct.\n",
    "from nltk.tokenize import RegexpTokenizer\n",
    "tokenizer = RegexpTokenizer(r'\\w+') "
   ]
  },
  {
   "cell_type": "code",
   "execution_count": 3,
   "metadata": {
    "collapsed": true
   },
   "outputs": [],
   "source": [
    "biglist = []"
   ]
  },
  {
   "cell_type": "code",
   "execution_count": 4,
   "metadata": {
    "collapsed": false
   },
   "outputs": [
    {
     "name": "stdout",
     "output_type": "stream",
     "text": [
      "adams-j\n",
      "adams-jq\n",
      "buchanan\n",
      "buren\n",
      "bush-g\n",
      "bush-gw\n",
      "carter\n",
      "cleveland\n",
      "clinton\n",
      "coolidge\n",
      "eisenhower\n",
      "garfield\n",
      "grant\n",
      "harding\n",
      "harrison-b\n",
      "harrison-w\n",
      "hayes\n",
      "hoover\n",
      "jackson\n",
      "jefferson\n",
      "johnson-lb\n",
      "kennedy\n",
      "lincoln\n",
      "madison\n",
      "mckinley\n",
      "monroe\n",
      "nixon\n",
      "obama\n",
      "pierce\n",
      "polk\n",
      "reagan\n",
      "roosevelt-fd\n",
      "roosevelt-t\n",
      "taft\n",
      "taylor\n",
      "truman\n",
      "washington\n",
      "wilson\n"
     ]
    }
   ],
   "source": [
    "speeches = glob.glob('data/transcripts/*')\n",
    "for s in speeches:\n",
    "    print basename(s)\n",
    "    with open(s) as speech:\n",
    "        text = speech.read()\n",
    "        tokens = tokenizer.tokenize(text)\n",
    "        biglist.append([basename(s), tokens])"
   ]
  },
  {
   "cell_type": "code",
   "execution_count": 5,
   "metadata": {
    "collapsed": false
   },
   "outputs": [],
   "source": [
    "df = pandas.DataFrame(biglist)\n",
    "df.columns = ['president', 'tokens']\n",
    "df.to_csv(\"data/tokenized-speeches.csv\")"
   ]
  },
  {
   "cell_type": "code",
   "execution_count": 6,
   "metadata": {
    "collapsed": false
   },
   "outputs": [
    {
     "data": {
      "text/plain": [
       "38"
      ]
     },
     "execution_count": 6,
     "metadata": {},
     "output_type": "execute_result"
    }
   ],
   "source": [
    "df.head()\n",
    "len(df)"
   ]
  },
  {
   "cell_type": "code",
   "execution_count": 7,
   "metadata": {
    "collapsed": false
   },
   "outputs": [],
   "source": [
    "df['word_count'] = df['tokens'].apply(lambda x: len(x))"
   ]
  },
  {
   "cell_type": "code",
   "execution_count": 8,
   "metadata": {
    "collapsed": false
   },
   "outputs": [
    {
     "data": {
      "text/html": [
       "<div>\n",
       "<table border=\"1\" class=\"dataframe\">\n",
       "  <thead>\n",
       "    <tr style=\"text-align: right;\">\n",
       "      <th></th>\n",
       "      <th>president</th>\n",
       "      <th>tokens</th>\n",
       "      <th>word_count</th>\n",
       "    </tr>\n",
       "  </thead>\n",
       "  <tbody>\n",
       "    <tr>\n",
       "      <th>0</th>\n",
       "      <td>adams-j</td>\n",
       "      <td>[When, it, was, first, perceived, in, early, t...</td>\n",
       "      <td>2322</td>\n",
       "    </tr>\n",
       "    <tr>\n",
       "      <th>1</th>\n",
       "      <td>adams-jq</td>\n",
       "      <td>[In, compliance, with, an, usage, coeval, with...</td>\n",
       "      <td>2917</td>\n",
       "    </tr>\n",
       "    <tr>\n",
       "      <th>2</th>\n",
       "      <td>buchanan</td>\n",
       "      <td>[Fellow, Citizens, I, appear, before, you, thi...</td>\n",
       "      <td>2836</td>\n",
       "    </tr>\n",
       "    <tr>\n",
       "      <th>3</th>\n",
       "      <td>buren</td>\n",
       "      <td>[The, practice, of, all, my, predecessors, imp...</td>\n",
       "      <td>3844</td>\n",
       "    </tr>\n",
       "    <tr>\n",
       "      <th>4</th>\n",
       "      <td>bush-g</td>\n",
       "      <td>[Mr, Chief, Justice, Mr, President, Vice, Pres...</td>\n",
       "      <td>2337</td>\n",
       "    </tr>\n",
       "  </tbody>\n",
       "</table>\n",
       "</div>"
      ],
      "text/plain": [
       "  president                                             tokens  word_count\n",
       "0   adams-j  [When, it, was, first, perceived, in, early, t...        2322\n",
       "1  adams-jq  [In, compliance, with, an, usage, coeval, with...        2917\n",
       "2  buchanan  [Fellow, Citizens, I, appear, before, you, thi...        2836\n",
       "3     buren  [The, practice, of, all, my, predecessors, imp...        3844\n",
       "4    bush-g  [Mr, Chief, Justice, Mr, President, Vice, Pres...        2337"
      ]
     },
     "execution_count": 8,
     "metadata": {},
     "output_type": "execute_result"
    }
   ],
   "source": [
    "df.head()"
   ]
  },
  {
   "cell_type": "code",
   "execution_count": 9,
   "metadata": {
    "collapsed": false
   },
   "outputs": [
    {
     "data": {
      "text/plain": [
       "count      38.000000\n",
       "mean     2709.210526\n",
       "std      1514.854772\n",
       "min       991.000000\n",
       "25%      1590.750000\n",
       "50%      2374.000000\n",
       "75%      3567.000000\n",
       "max      8465.000000\n",
       "Name: word_count, dtype: float64"
      ]
     },
     "execution_count": 9,
     "metadata": {},
     "output_type": "execute_result"
    }
   ],
   "source": [
    "df.word_count.describe()"
   ]
  },
  {
   "cell_type": "code",
   "execution_count": 10,
   "metadata": {
    "collapsed": false
   },
   "outputs": [
    {
     "data": {
      "text/html": [
       "<div>\n",
       "<table border=\"1\" class=\"dataframe\">\n",
       "  <thead>\n",
       "    <tr style=\"text-align: right;\">\n",
       "      <th></th>\n",
       "      <th>president</th>\n",
       "      <th>tokens</th>\n",
       "      <th>word_count</th>\n",
       "    </tr>\n",
       "  </thead>\n",
       "  <tbody>\n",
       "    <tr>\n",
       "      <th>32</th>\n",
       "      <td>roosevelt-t</td>\n",
       "      <td>[My, fellow, citizens, no, people, on, earth, ...</td>\n",
       "      <td>991</td>\n",
       "    </tr>\n",
       "    <tr>\n",
       "      <th>34</th>\n",
       "      <td>taylor</td>\n",
       "      <td>[Elected, by, the, American, people, to, the, ...</td>\n",
       "      <td>1091</td>\n",
       "    </tr>\n",
       "    <tr>\n",
       "      <th>18</th>\n",
       "      <td>jackson</td>\n",
       "      <td>[About, to, undertake, the, arduous, duties, t...</td>\n",
       "      <td>1126</td>\n",
       "    </tr>\n",
       "    <tr>\n",
       "      <th>12</th>\n",
       "      <td>grant</td>\n",
       "      <td>[Citizens, of, the, United, States, Your, suff...</td>\n",
       "      <td>1132</td>\n",
       "    </tr>\n",
       "    <tr>\n",
       "      <th>23</th>\n",
       "      <td>madison</td>\n",
       "      <td>[Unwilling, to, depart, from, examples, of, th...</td>\n",
       "      <td>1181</td>\n",
       "    </tr>\n",
       "    <tr>\n",
       "      <th>6</th>\n",
       "      <td>carter</td>\n",
       "      <td>[For, myself, and, for, our, Nation, I, want, ...</td>\n",
       "      <td>1229</td>\n",
       "    </tr>\n",
       "    <tr>\n",
       "      <th>21</th>\n",
       "      <td>kennedy</td>\n",
       "      <td>[Vice, President, Johnson, Mr, Speaker, Mr, Ch...</td>\n",
       "      <td>1368</td>\n",
       "    </tr>\n",
       "    <tr>\n",
       "      <th>36</th>\n",
       "      <td>washington</td>\n",
       "      <td>[Fellow, Citizens, of, the, Senate, and, of, t...</td>\n",
       "      <td>1431</td>\n",
       "    </tr>\n",
       "    <tr>\n",
       "      <th>20</th>\n",
       "      <td>johnson-lb</td>\n",
       "      <td>[My, fellow, countrymen, on, this, occasion, t...</td>\n",
       "      <td>1496</td>\n",
       "    </tr>\n",
       "    <tr>\n",
       "      <th>5</th>\n",
       "      <td>bush-gw</td>\n",
       "      <td>[President, Clinton, distinguished, guests, an...</td>\n",
       "      <td>1589</td>\n",
       "    </tr>\n",
       "    <tr>\n",
       "      <th>8</th>\n",
       "      <td>clinton</td>\n",
       "      <td>[My, fellow, citizens, Today, we, celebrate, t...</td>\n",
       "      <td>1596</td>\n",
       "    </tr>\n",
       "    <tr>\n",
       "      <th>7</th>\n",
       "      <td>cleveland</td>\n",
       "      <td>[Fellow, Citizens, In, the, presence, of, this...</td>\n",
       "      <td>1691</td>\n",
       "    </tr>\n",
       "    <tr>\n",
       "      <th>37</th>\n",
       "      <td>wilson</td>\n",
       "      <td>[There, has, been, a, change, of, government, ...</td>\n",
       "      <td>1712</td>\n",
       "    </tr>\n",
       "    <tr>\n",
       "      <th>19</th>\n",
       "      <td>jefferson</td>\n",
       "      <td>[FRIENDS, AND, FELLOW, CITIZENS, Called, upon,...</td>\n",
       "      <td>1732</td>\n",
       "    </tr>\n",
       "    <tr>\n",
       "      <th>31</th>\n",
       "      <td>roosevelt-fd</td>\n",
       "      <td>[I, am, certain, that, my, fellow, Americans, ...</td>\n",
       "      <td>1883</td>\n",
       "    </tr>\n",
       "    <tr>\n",
       "      <th>26</th>\n",
       "      <td>nixon</td>\n",
       "      <td>[Senator, Dirksen, Mr, Chief, Justice, Mr, Vic...</td>\n",
       "      <td>2131</td>\n",
       "    </tr>\n",
       "    <tr>\n",
       "      <th>35</th>\n",
       "      <td>truman</td>\n",
       "      <td>[Mr, Vice, President, Mr, Chief, Justice, and,...</td>\n",
       "      <td>2284</td>\n",
       "    </tr>\n",
       "    <tr>\n",
       "      <th>0</th>\n",
       "      <td>adams-j</td>\n",
       "      <td>[When, it, was, first, perceived, in, early, t...</td>\n",
       "      <td>2322</td>\n",
       "    </tr>\n",
       "    <tr>\n",
       "      <th>4</th>\n",
       "      <td>bush-g</td>\n",
       "      <td>[Mr, Chief, Justice, Mr, President, Vice, Pres...</td>\n",
       "      <td>2337</td>\n",
       "    </tr>\n",
       "    <tr>\n",
       "      <th>27</th>\n",
       "      <td>obama</td>\n",
       "      <td>[My, fellow, citizens, I, stand, here, today, ...</td>\n",
       "      <td>2411</td>\n",
       "    </tr>\n",
       "    <tr>\n",
       "      <th>10</th>\n",
       "      <td>eisenhower</td>\n",
       "      <td>[My, friends, before, I, begin, the, expressio...</td>\n",
       "      <td>2470</td>\n",
       "    </tr>\n",
       "    <tr>\n",
       "      <th>16</th>\n",
       "      <td>hayes</td>\n",
       "      <td>[Fellow, Citizens, We, have, assembled, to, re...</td>\n",
       "      <td>2494</td>\n",
       "    </tr>\n",
       "    <tr>\n",
       "      <th>2</th>\n",
       "      <td>buchanan</td>\n",
       "      <td>[Fellow, Citizens, I, appear, before, you, thi...</td>\n",
       "      <td>2836</td>\n",
       "    </tr>\n",
       "    <tr>\n",
       "      <th>1</th>\n",
       "      <td>adams-jq</td>\n",
       "      <td>[In, compliance, with, an, usage, coeval, with...</td>\n",
       "      <td>2917</td>\n",
       "    </tr>\n",
       "    <tr>\n",
       "      <th>11</th>\n",
       "      <td>garfield</td>\n",
       "      <td>[Fellow, Citizens, We, stand, to, day, upon, a...</td>\n",
       "      <td>2993</td>\n",
       "    </tr>\n",
       "    <tr>\n",
       "      <th>28</th>\n",
       "      <td>pierce</td>\n",
       "      <td>[My, Countrymen, It, a, relief, to, feel, that...</td>\n",
       "      <td>3342</td>\n",
       "    </tr>\n",
       "    <tr>\n",
       "      <th>13</th>\n",
       "      <td>harding</td>\n",
       "      <td>[My, Countrymen, When, one, surveys, the, worl...</td>\n",
       "      <td>3346</td>\n",
       "    </tr>\n",
       "    <tr>\n",
       "      <th>25</th>\n",
       "      <td>monroe</td>\n",
       "      <td>[I, should, be, destitute, of, feeling, if, I,...</td>\n",
       "      <td>3375</td>\n",
       "    </tr>\n",
       "    <tr>\n",
       "      <th>22</th>\n",
       "      <td>lincoln</td>\n",
       "      <td>[In, compliance, with, a, custom, as, old, as,...</td>\n",
       "      <td>3631</td>\n",
       "    </tr>\n",
       "    <tr>\n",
       "      <th>17</th>\n",
       "      <td>hoover</td>\n",
       "      <td>[My, Countrymen, This, occasion, is, not, alon...</td>\n",
       "      <td>3766</td>\n",
       "    </tr>\n",
       "    <tr>\n",
       "      <th>3</th>\n",
       "      <td>buren</td>\n",
       "      <td>[The, practice, of, all, my, predecessors, imp...</td>\n",
       "      <td>3844</td>\n",
       "    </tr>\n",
       "    <tr>\n",
       "      <th>24</th>\n",
       "      <td>mckinley</td>\n",
       "      <td>[Fellow, Citizens, In, obedience, to, the, wil...</td>\n",
       "      <td>3977</td>\n",
       "    </tr>\n",
       "    <tr>\n",
       "      <th>30</th>\n",
       "      <td>reagan</td>\n",
       "      <td>[Senator, Hatfield, Mr, Chief, Justice, Mr, Pr...</td>\n",
       "      <td>4041</td>\n",
       "    </tr>\n",
       "    <tr>\n",
       "      <th>9</th>\n",
       "      <td>coolidge</td>\n",
       "      <td>[My, Countrymen, No, one, can, contemplate, cu...</td>\n",
       "      <td>4056</td>\n",
       "    </tr>\n",
       "    <tr>\n",
       "      <th>14</th>\n",
       "      <td>harrison-b</td>\n",
       "      <td>[Fellow, Citizens, There, is, no, constitution...</td>\n",
       "      <td>4407</td>\n",
       "    </tr>\n",
       "    <tr>\n",
       "      <th>29</th>\n",
       "      <td>polk</td>\n",
       "      <td>[Fellow, Citizens, Without, solicitation, on, ...</td>\n",
       "      <td>4815</td>\n",
       "    </tr>\n",
       "    <tr>\n",
       "      <th>33</th>\n",
       "      <td>taft</td>\n",
       "      <td>[My, Fellow, Citizens, Anyone, who, has, taken...</td>\n",
       "      <td>5442</td>\n",
       "    </tr>\n",
       "    <tr>\n",
       "      <th>15</th>\n",
       "      <td>harrison-w</td>\n",
       "      <td>[Called, from, a, retirement, which, I, had, s...</td>\n",
       "      <td>8465</td>\n",
       "    </tr>\n",
       "  </tbody>\n",
       "</table>\n",
       "</div>"
      ],
      "text/plain": [
       "       president                                             tokens  \\\n",
       "32   roosevelt-t  [My, fellow, citizens, no, people, on, earth, ...   \n",
       "34        taylor  [Elected, by, the, American, people, to, the, ...   \n",
       "18       jackson  [About, to, undertake, the, arduous, duties, t...   \n",
       "12         grant  [Citizens, of, the, United, States, Your, suff...   \n",
       "23       madison  [Unwilling, to, depart, from, examples, of, th...   \n",
       "6         carter  [For, myself, and, for, our, Nation, I, want, ...   \n",
       "21       kennedy  [Vice, President, Johnson, Mr, Speaker, Mr, Ch...   \n",
       "36    washington  [Fellow, Citizens, of, the, Senate, and, of, t...   \n",
       "20    johnson-lb  [My, fellow, countrymen, on, this, occasion, t...   \n",
       "5        bush-gw  [President, Clinton, distinguished, guests, an...   \n",
       "8        clinton  [My, fellow, citizens, Today, we, celebrate, t...   \n",
       "7      cleveland  [Fellow, Citizens, In, the, presence, of, this...   \n",
       "37        wilson  [There, has, been, a, change, of, government, ...   \n",
       "19     jefferson  [FRIENDS, AND, FELLOW, CITIZENS, Called, upon,...   \n",
       "31  roosevelt-fd  [I, am, certain, that, my, fellow, Americans, ...   \n",
       "26         nixon  [Senator, Dirksen, Mr, Chief, Justice, Mr, Vic...   \n",
       "35        truman  [Mr, Vice, President, Mr, Chief, Justice, and,...   \n",
       "0        adams-j  [When, it, was, first, perceived, in, early, t...   \n",
       "4         bush-g  [Mr, Chief, Justice, Mr, President, Vice, Pres...   \n",
       "27         obama  [My, fellow, citizens, I, stand, here, today, ...   \n",
       "10    eisenhower  [My, friends, before, I, begin, the, expressio...   \n",
       "16         hayes  [Fellow, Citizens, We, have, assembled, to, re...   \n",
       "2       buchanan  [Fellow, Citizens, I, appear, before, you, thi...   \n",
       "1       adams-jq  [In, compliance, with, an, usage, coeval, with...   \n",
       "11      garfield  [Fellow, Citizens, We, stand, to, day, upon, a...   \n",
       "28        pierce  [My, Countrymen, It, a, relief, to, feel, that...   \n",
       "13       harding  [My, Countrymen, When, one, surveys, the, worl...   \n",
       "25        monroe  [I, should, be, destitute, of, feeling, if, I,...   \n",
       "22       lincoln  [In, compliance, with, a, custom, as, old, as,...   \n",
       "17        hoover  [My, Countrymen, This, occasion, is, not, alon...   \n",
       "3          buren  [The, practice, of, all, my, predecessors, imp...   \n",
       "24      mckinley  [Fellow, Citizens, In, obedience, to, the, wil...   \n",
       "30        reagan  [Senator, Hatfield, Mr, Chief, Justice, Mr, Pr...   \n",
       "9       coolidge  [My, Countrymen, No, one, can, contemplate, cu...   \n",
       "14    harrison-b  [Fellow, Citizens, There, is, no, constitution...   \n",
       "29          polk  [Fellow, Citizens, Without, solicitation, on, ...   \n",
       "33          taft  [My, Fellow, Citizens, Anyone, who, has, taken...   \n",
       "15    harrison-w  [Called, from, a, retirement, which, I, had, s...   \n",
       "\n",
       "    word_count  \n",
       "32         991  \n",
       "34        1091  \n",
       "18        1126  \n",
       "12        1132  \n",
       "23        1181  \n",
       "6         1229  \n",
       "21        1368  \n",
       "36        1431  \n",
       "20        1496  \n",
       "5         1589  \n",
       "8         1596  \n",
       "7         1691  \n",
       "37        1712  \n",
       "19        1732  \n",
       "31        1883  \n",
       "26        2131  \n",
       "35        2284  \n",
       "0         2322  \n",
       "4         2337  \n",
       "27        2411  \n",
       "10        2470  \n",
       "16        2494  \n",
       "2         2836  \n",
       "1         2917  \n",
       "11        2993  \n",
       "28        3342  \n",
       "13        3346  \n",
       "25        3375  \n",
       "22        3631  \n",
       "17        3766  \n",
       "3         3844  \n",
       "24        3977  \n",
       "30        4041  \n",
       "9         4056  \n",
       "14        4407  \n",
       "29        4815  \n",
       "33        5442  \n",
       "15        8465  "
      ]
     },
     "execution_count": 10,
     "metadata": {},
     "output_type": "execute_result"
    }
   ],
   "source": [
    "df.sort_values('word_count', ascending=True)"
   ]
  },
  {
   "cell_type": "code",
   "execution_count": 11,
   "metadata": {
    "collapsed": false
   },
   "outputs": [],
   "source": [
    "df[['president', 'word_count']].to_csv('data/president_word_count.csv')"
   ]
  },
  {
   "cell_type": "code",
   "execution_count": 12,
   "metadata": {
    "collapsed": false
   },
   "outputs": [],
   "source": [
    "df_with_date = pandas.read_csv('data/name-date-wc.csv',index_col=False)"
   ]
  },
  {
   "cell_type": "code",
   "execution_count": 13,
   "metadata": {
    "collapsed": false
   },
   "outputs": [
    {
     "data": {
      "text/html": [
       "<div>\n",
       "<table border=\"1\" class=\"dataframe\">\n",
       "  <thead>\n",
       "    <tr style=\"text-align: right;\">\n",
       "      <th></th>\n",
       "      <th>president</th>\n",
       "      <th>first-term</th>\n",
       "      <th>word_count</th>\n",
       "    </tr>\n",
       "  </thead>\n",
       "  <tbody>\n",
       "    <tr>\n",
       "      <th>15</th>\n",
       "      <td>Harrison</td>\n",
       "      <td>1889</td>\n",
       "      <td>8465</td>\n",
       "    </tr>\n",
       "    <tr>\n",
       "      <th>33</th>\n",
       "      <td>Taft</td>\n",
       "      <td>1909</td>\n",
       "      <td>5442</td>\n",
       "    </tr>\n",
       "    <tr>\n",
       "      <th>29</th>\n",
       "      <td>Polk</td>\n",
       "      <td>1845</td>\n",
       "      <td>4815</td>\n",
       "    </tr>\n",
       "    <tr>\n",
       "      <th>14</th>\n",
       "      <td>Harrison</td>\n",
       "      <td>1841</td>\n",
       "      <td>4407</td>\n",
       "    </tr>\n",
       "    <tr>\n",
       "      <th>9</th>\n",
       "      <td>Coolidge</td>\n",
       "      <td>1925</td>\n",
       "      <td>4056</td>\n",
       "    </tr>\n",
       "    <tr>\n",
       "      <th>30</th>\n",
       "      <td>Reagan</td>\n",
       "      <td>1981</td>\n",
       "      <td>4041</td>\n",
       "    </tr>\n",
       "    <tr>\n",
       "      <th>24</th>\n",
       "      <td>McKinley</td>\n",
       "      <td>1897</td>\n",
       "      <td>3977</td>\n",
       "    </tr>\n",
       "    <tr>\n",
       "      <th>3</th>\n",
       "      <td>Buren</td>\n",
       "      <td>1837</td>\n",
       "      <td>3844</td>\n",
       "    </tr>\n",
       "    <tr>\n",
       "      <th>17</th>\n",
       "      <td>Hoover</td>\n",
       "      <td>1929</td>\n",
       "      <td>3766</td>\n",
       "    </tr>\n",
       "    <tr>\n",
       "      <th>22</th>\n",
       "      <td>Lincoln</td>\n",
       "      <td>1861</td>\n",
       "      <td>3631</td>\n",
       "    </tr>\n",
       "  </tbody>\n",
       "</table>\n",
       "</div>"
      ],
      "text/plain": [
       "   president  first-term  word_count\n",
       "15  Harrison        1889        8465\n",
       "33      Taft        1909        5442\n",
       "29      Polk        1845        4815\n",
       "14  Harrison        1841        4407\n",
       "9   Coolidge        1925        4056\n",
       "30    Reagan        1981        4041\n",
       "24  McKinley        1897        3977\n",
       "3      Buren        1837        3844\n",
       "17    Hoover        1929        3766\n",
       "22   Lincoln        1861        3631"
      ]
     },
     "execution_count": 13,
     "metadata": {},
     "output_type": "execute_result"
    }
   ],
   "source": [
    "df_with_date.sort_values('word_count', ascending=False)[:10]"
   ]
  },
  {
   "cell_type": "code",
   "execution_count": 24,
   "metadata": {
    "collapsed": false
   },
   "outputs": [
    {
     "data": {
      "text/plain": [
       "<matplotlib.text.Text at 0x10a3c7e10>"
      ]
     },
     "execution_count": 24,
     "metadata": {},
     "output_type": "execute_result"
    },
    {
     "data": {
      "image/png": "[encoded data removed]",
      "text/plain": [
       "<matplotlib.figure.Figure at 0x109f088d0>"
      ]
     },
     "metadata": {},
     "output_type": "display_data"
    }
   ],
   "source": [
    "df_with_date.sort_values('word_count').plot(x='president',\n",
    "                                            y='word_count', \n",
    "                                            kind='barh',\n",
    "                                            legend=None)\n",
    "plt.title('Length of Address')\n",
    "plt.xlabel('Words') \n",
    "plt.ylabel(\"\")"
   ]
  },
  {
   "cell_type": "code",
   "execution_count": null,
   "metadata": {
    "collapsed": false
   },
   "outputs": [],
   "source": []
  },
  {
   "cell_type": "code",
   "execution_count": null,
   "metadata": {
    "collapsed": true
   },
   "outputs": [],
   "source": []
  }
 ],
 "metadata": {
  "kernelspec": {
   "display_name": "Python 2",
   "language": "python",
   "name": "python2"
  },
  "language_info": {
   "codemirror_mode": {
    "name": "ipython",
    "version": 2
   },
   "file_extension": ".py",
   "mimetype": "text/x-python",
   "name": "python",
   "nbconvert_exporter": "python",
   "pygments_lexer": "ipython2",
   "version": "2.7.13"
  }
 },
 "nbformat": 4,
 "nbformat_minor": 2
}
