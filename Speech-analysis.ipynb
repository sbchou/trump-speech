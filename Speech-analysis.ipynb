{
 "cells": [
  {
   "cell_type": "code",
   "execution_count": 14,
   "metadata": {
    "collapsed": false
   },
   "outputs": [],
   "source": [
    "%matplotlib inline\n",
    "import matplotlib.pyplot as plt\n",
    "import pandas\n",
    "import inspect\n",
    "from datetime import datetime\n",
    "import seaborn as sns\n",
    "import glob\n",
    "from os.path import basename"
   ]
  },
  {
   "cell_type": "code",
   "execution_count": 8,
   "metadata": {
    "collapsed": true
   },
   "outputs": [],
   "source": [
    "# Make your word tokenizer. We don't care about punct.\n",
    "from nltk.tokenize import RegexpTokenizer\n",
    "tokenizer = RegexpTokenizer(r'\\w+') "
   ]
  },
  {
   "cell_type": "code",
   "execution_count": null,
   "metadata": {
    "collapsed": true
   },
   "outputs": [],
   "source": [
    "biglist = []"
   ]
  },
  {
   "cell_type": "code",
   "execution_count": 16,
   "metadata": {
    "collapsed": false
   },
   "outputs": [
    {
     "name": "stdout",
     "output_type": "stream",
     "text": [
      "adams-john\n",
      "adams-john-q\n",
      "buchanan\n",
      "bush-1\n",
      "bush-2\n",
      "carter\n",
      "cleveland\n",
      "clinton\n",
      "coolidge\n",
      "eisenhower\n",
      "garfield\n",
      "grant\n",
      "harding\n",
      "harrison-benjamin\n",
      "harrison-william\n",
      "hayes\n",
      "hoover\n",
      "jackson\n",
      "jefferson\n",
      "johnson-lb\n",
      "kennedy\n",
      "lincoln\n",
      "madison\n",
      "mckinley\n",
      "monroe\n",
      "nixon\n",
      "obama\n",
      "pierce\n",
      "polk\n",
      "reagan\n",
      "roosevelt-fd\n",
      "roosevelt-teddy\n",
      "taft\n",
      "taylor\n",
      "truman\n",
      "van-buren\n",
      "washington\n",
      "wilson\n"
     ]
    }
   ],
   "source": [
    "speeches = glob.glob('data/*')\n",
    "for s in speeches:\n",
    "    print basename(s)\n",
    "    with open(s) as speech:\n",
    "        text = speech.read()\n",
    "        tokens = tokenizer.tokenize(text)\n",
    "        "
   ]
  },
  {
   "cell_type": "code",
   "execution_count": null,
   "metadata": {
    "collapsed": false
   },
   "outputs": [],
   "source": []
  },
  {
   "cell_type": "code",
   "execution_count": null,
   "metadata": {
    "collapsed": true
   },
   "outputs": [],
   "source": []
  }
 ],
 "metadata": {
  "kernelspec": {
   "display_name": "Python 2",
   "language": "python",
   "name": "python2"
  },
  "language_info": {
   "codemirror_mode": {
    "name": "ipython",
    "version": 2
   },
   "file_extension": ".py",
   "mimetype": "text/x-python",
   "name": "python",
   "nbconvert_exporter": "python",
   "pygments_lexer": "ipython2",
   "version": "2.7.13"
  }
 },
 "nbformat": 4,
 "nbformat_minor": 2
}
