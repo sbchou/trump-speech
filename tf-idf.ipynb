{
 "cells": [
  {
   "cell_type": "code",
   "execution_count": 1,
   "metadata": {
    "collapsed": true
   },
   "outputs": [],
   "source": [
    "import math\n",
    "from textblob import TextBlob as tb\n",
    "\n",
    "def tf(word, blob):\n",
    "    return (float)(blob.words.count(word)) / (float)(len(blob.words))\n",
    "\n",
    "\n",
    "def n_containing(word, bloblist):\n",
    "    return sum(1 for blob in bloblist if word in blob.words)\n",
    "\n",
    "def idf(word, bloblist): return math.log(len(bloblist) / (float)(1 + n_containing(word, bloblist)))\n",
    "\n",
    "\n",
    "def tfidf(word, blob, bloblist):\n",
    "    return tf(word, blob) * idf(word, bloblist)"
   ]
  },
  {
   "cell_type": "code",
   "execution_count": 9,
   "metadata": {
    "collapsed": true
   },
   "outputs": [],
   "source": [
    "from nltk.corpus import stopwords\n",
    "sw = stopwords.words('english')"
   ]
  },
  {
   "cell_type": "code",
   "execution_count": null,
   "metadata": {
    "collapsed": true
   },
   "outputs": [],
   "source": []
  },
  {
   "cell_type": "code",
   "execution_count": 2,
   "metadata": {
    "collapsed": true
   },
   "outputs": [],
   "source": [
    "import pandas\n",
    "from matplotlib import pyplot as plt"
   ]
  },
  {
   "cell_type": "code",
   "execution_count": 3,
   "metadata": {
    "collapsed": true
   },
   "outputs": [],
   "source": [
    "df = pandas.read_csv('data/last-10-all-cols.csv', index_col=False,encoding='utf-8')"
   ]
  },
  {
   "cell_type": "code",
   "execution_count": null,
   "metadata": {
    "collapsed": false
   },
   "outputs": [],
   "source": []
  },
  {
   "cell_type": "code",
   "execution_count": 4,
   "metadata": {
    "collapsed": false
   },
   "outputs": [
    {
     "data": {
      "text/html": [
       "<div>\n",
       "<table border=\"1\" class=\"dataframe\">\n",
       "  <thead>\n",
       "    <tr style=\"text-align: right;\">\n",
       "      <th></th>\n",
       "      <th>Unnamed: 0</th>\n",
       "      <th>president</th>\n",
       "      <th>text</th>\n",
       "      <th>fk_grade</th>\n",
       "      <th>first_term</th>\n",
       "      <th>word_count</th>\n",
       "    </tr>\n",
       "  </thead>\n",
       "  <tbody>\n",
       "    <tr>\n",
       "      <th>0</th>\n",
       "      <td>0</td>\n",
       "      <td>bush-g</td>\n",
       "      <td>Mr. Chief Justice, Mr. President, Vice Preside...</td>\n",
       "      <td>6.0</td>\n",
       "      <td>1989</td>\n",
       "      <td>2337</td>\n",
       "    </tr>\n",
       "    <tr>\n",
       "      <th>1</th>\n",
       "      <td>1</td>\n",
       "      <td>bush-gw</td>\n",
       "      <td>President Clinton, distinguished guests and my...</td>\n",
       "      <td>9.1</td>\n",
       "      <td>2001</td>\n",
       "      <td>1589</td>\n",
       "    </tr>\n",
       "    <tr>\n",
       "      <th>2</th>\n",
       "      <td>3</td>\n",
       "      <td>reagan</td>\n",
       "      <td>Senator Hatfield, Mr. Chief Justice, Mr. Presi...</td>\n",
       "      <td>9.1</td>\n",
       "      <td>2001</td>\n",
       "      <td>1589</td>\n",
       "    </tr>\n",
       "    <tr>\n",
       "      <th>3</th>\n",
       "      <td>5</td>\n",
       "      <td>carter</td>\n",
       "      <td>For myself and for our Nation, I want to thank...</td>\n",
       "      <td>11.1</td>\n",
       "      <td>1977</td>\n",
       "      <td>1229</td>\n",
       "    </tr>\n",
       "    <tr>\n",
       "      <th>4</th>\n",
       "      <td>6</td>\n",
       "      <td>coolidge</td>\n",
       "      <td>My Countrymen:\\n\\nNo one can contemplate curre...</td>\n",
       "      <td>11.1</td>\n",
       "      <td>1977</td>\n",
       "      <td>1229</td>\n",
       "    </tr>\n",
       "    <tr>\n",
       "      <th>5</th>\n",
       "      <td>7</td>\n",
       "      <td>clinton</td>\n",
       "      <td>My fellow citizens :\\n\\nToday we celebrate the...</td>\n",
       "      <td>8.7</td>\n",
       "      <td>1993</td>\n",
       "      <td>1596</td>\n",
       "    </tr>\n",
       "    <tr>\n",
       "      <th>6</th>\n",
       "      <td>9</td>\n",
       "      <td>nixon</td>\n",
       "      <td>Senator Dirksen, Mr. Chief Justice, Mr. Vice P...</td>\n",
       "      <td>8.7</td>\n",
       "      <td>1993</td>\n",
       "      <td>1596</td>\n",
       "    </tr>\n",
       "    <tr>\n",
       "      <th>7</th>\n",
       "      <td>11</td>\n",
       "      <td>johnson-lb</td>\n",
       "      <td>My fellow countrymen, on this occasion, the oa...</td>\n",
       "      <td>6.8</td>\n",
       "      <td>1965</td>\n",
       "      <td>1496</td>\n",
       "    </tr>\n",
       "    <tr>\n",
       "      <th>8</th>\n",
       "      <td>12</td>\n",
       "      <td>kennedy</td>\n",
       "      <td>Vice President Johnson, Mr. Speaker, Mr. Chief...</td>\n",
       "      <td>10.3</td>\n",
       "      <td>1961</td>\n",
       "      <td>1368</td>\n",
       "    </tr>\n",
       "    <tr>\n",
       "      <th>9</th>\n",
       "      <td>13</td>\n",
       "      <td>wilson</td>\n",
       "      <td>There has been a change of government. It beg...</td>\n",
       "      <td>10.3</td>\n",
       "      <td>1961</td>\n",
       "      <td>1368</td>\n",
       "    </tr>\n",
       "    <tr>\n",
       "      <th>10</th>\n",
       "      <td>14</td>\n",
       "      <td>obama</td>\n",
       "      <td>My fellow citizens:\\n\\nI stand here today humb...</td>\n",
       "      <td>9.5</td>\n",
       "      <td>2009</td>\n",
       "      <td>2411</td>\n",
       "    </tr>\n",
       "    <tr>\n",
       "      <th>11</th>\n",
       "      <td>15</td>\n",
       "      <td>trump</td>\n",
       "      <td>\\nChief Justice Roberts, President Carter, Pre...</td>\n",
       "      <td>8.0</td>\n",
       "      <td>2017</td>\n",
       "      <td>1467</td>\n",
       "    </tr>\n",
       "  </tbody>\n",
       "</table>\n",
       "</div>"
      ],
      "text/plain": [
       "    Unnamed: 0   president                                               text  \\\n",
       "0            0      bush-g  Mr. Chief Justice, Mr. President, Vice Preside...   \n",
       "1            1     bush-gw  President Clinton, distinguished guests and my...   \n",
       "2            3      reagan  Senator Hatfield, Mr. Chief Justice, Mr. Presi...   \n",
       "3            5      carter  For myself and for our Nation, I want to thank...   \n",
       "4            6    coolidge  My Countrymen:\\n\\nNo one can contemplate curre...   \n",
       "5            7     clinton  My fellow citizens :\\n\\nToday we celebrate the...   \n",
       "6            9       nixon  Senator Dirksen, Mr. Chief Justice, Mr. Vice P...   \n",
       "7           11  johnson-lb  My fellow countrymen, on this occasion, the oa...   \n",
       "8           12     kennedy  Vice President Johnson, Mr. Speaker, Mr. Chief...   \n",
       "9           13      wilson   There has been a change of government. It beg...   \n",
       "10          14       obama  My fellow citizens:\\n\\nI stand here today humb...   \n",
       "11          15       trump  \\nChief Justice Roberts, President Carter, Pre...   \n",
       "\n",
       "    fk_grade  first_term  word_count  \n",
       "0        6.0        1989        2337  \n",
       "1        9.1        2001        1589  \n",
       "2        9.1        2001        1589  \n",
       "3       11.1        1977        1229  \n",
       "4       11.1        1977        1229  \n",
       "5        8.7        1993        1596  \n",
       "6        8.7        1993        1596  \n",
       "7        6.8        1965        1496  \n",
       "8       10.3        1961        1368  \n",
       "9       10.3        1961        1368  \n",
       "10       9.5        2009        2411  \n",
       "11       8.0        2017        1467  "
      ]
     },
     "execution_count": 4,
     "metadata": {},
     "output_type": "execute_result"
    }
   ],
   "source": [
    "df.head(20)"
   ]
  },
  {
   "cell_type": "code",
   "execution_count": 33,
   "metadata": {
    "collapsed": false
   },
   "outputs": [],
   "source": [
    "bloblist = df[['president','text']].values.tolist()\n",
    "bloblist = [[t[0], tb(t[1].lower())] for t in bloblist]"
   ]
  },
  {
   "cell_type": "code",
   "execution_count": 40,
   "metadata": {
    "collapsed": false
   },
   "outputs": [
    {
     "name": "stdout",
     "output_type": "stream",
     "text": [
      "bush-g\n",
      "Top words in document 1\n",
      "\tWord: n't, TF-IDF: 0.00533\n",
      "\tWord: breeze, TF-IDF: 0.00383\n",
      "\tWord: door, TF-IDF: 0.00306\n",
      "\tWord: word, TF-IDF: 0.00296\n",
      "\tWord: friends, TF-IDF: 0.00237\n",
      "bush-gw\n",
      "Top words in document 2\n",
      "\tWord: story, TF-IDF: 0.00692\n",
      "\tWord: sometimes, TF-IDF: 0.00277\n",
      "\tWord: civility, TF-IDF: 0.00277\n",
      "\tWord: affirm, TF-IDF: 0.00262\n",
      "\tWord: compassion, TF-IDF: 0.00208\n",
      "reagan\n",
      "Top words in document 3\n",
      "\tWord: story, TF-IDF: 0.00272\n",
      "\tWord: heroes, TF-IDF: 0.00172\n",
      "\tWord: federal, TF-IDF: 0.00137\n",
      "\tWord: called, TF-IDF: 0.00137\n",
      "\tWord: productivity, TF-IDF: 0.00133\n",
      "carter\n",
      "Top words in document 4\n",
      "\tWord: micah, TF-IDF: 0.00437\n",
      "\tWord: enhance, TF-IDF: 0.00291\n",
      "\tWord: thee, TF-IDF: 0.00291\n",
      "\tWord: mistakes, TF-IDF: 0.00291\n",
      "\tWord: human, TF-IDF: 0.00282\n",
      "coolidge\n",
      "Top words in document 5\n",
      "\tWord: ought, TF-IDF: 0.00308\n",
      "\tWord: property, TF-IDF: 0.00239\n",
      "\tWord: secured, TF-IDF: 0.00221\n",
      "\tWord: policy, TF-IDF: 0.00205\n",
      "\tWord: conditions, TF-IDF: 0.00205\n",
      "clinton\n",
      "Top words in document 6\n",
      "\tWord: season, TF-IDF: 0.00449\n",
      "\tWord: idea, TF-IDF: 0.00344\n",
      "\tWord: spring, TF-IDF: 0.00337\n",
      "\tWord: posterity, TF-IDF: 0.00337\n",
      "\tWord: raised, TF-IDF: 0.00337\n",
      "nixon\n",
      "Top words in document 7\n",
      "\tWord: voices, TF-IDF: 0.00412\n",
      "\tWord: third, TF-IDF: 0.0026\n",
      "\tWord: rhetoric, TF-IDF: 0.00252\n",
      "\tWord: wanting, TF-IDF: 0.00252\n",
      "\tWord: comes, TF-IDF: 0.00252\n",
      "johnson-lb\n",
      "Top words in document 8\n",
      "\tWord: covenant, TF-IDF: 0.00719\n",
      "\tWord: union, TF-IDF: 0.00527\n",
      "\tWord: mastery, TF-IDF: 0.00359\n",
      "\tWord: change, TF-IDF: 0.00325\n",
      "\tWord: trying, TF-IDF: 0.00278\n",
      "kennedy\n",
      "Top words in document 9\n",
      "\tWord: sides, TF-IDF: 0.00642\n",
      "\tWord: dare, TF-IDF: 0.00392\n",
      "\tWord: final, TF-IDF: 0.00304\n",
      "\tWord: pledge, TF-IDF: 0.00275\n",
      "\tWord: oppose, TF-IDF: 0.00262\n",
      "wilson\n",
      "Top words in document 10\n",
      "\tWord: studied, TF-IDF: 0.00315\n",
      "\tWord: familiar, TF-IDF: 0.00315\n",
      "\tWord: evil, TF-IDF: 0.00315\n",
      "\tWord: stirred, TF-IDF: 0.00315\n",
      "\tWord: mere, TF-IDF: 0.00244\n",
      "obama\n",
      "Top words in document 11\n",
      "\tWord: carried, TF-IDF: 0.00173\n",
      "\tWord: less, TF-IDF: 0.00157\n",
      "\tWord: market, TF-IDF: 0.00149\n",
      "\tWord: virtue, TF-IDF: 0.00149\n",
      "\tWord: waters, TF-IDF: 0.00149\n",
      "trump\n",
      "Top words in document 12\n",
      "\tWord: protected, TF-IDF: 0.00473\n",
      "\tWord: dreams, TF-IDF: 0.00375\n",
      "\tWord: obama, TF-IDF: 0.00367\n",
      "\tWord: borders, TF-IDF: 0.00284\n",
      "\tWord: trillions, TF-IDF: 0.00245\n"
     ]
    }
   ],
   "source": [
    "for i, blob in enumerate(bloblist):\n",
    "    president, txt = blob\n",
    "    print president\n",
    "    print(\"Top words in document {}\".format(i + 1))\n",
    "    cleaned_words = set(txt.words) - set(sw)\n",
    "\n",
    "    scores = {word: tfidf(word, txt, [t[1] for t in bloblist]) for word in cleaned_words}\n",
    "    sorted_words = sorted(scores.items(), key=lambda x: x[1], reverse=True)\n",
    "    for word, score in sorted_words[:5]:\n",
    "        print(\"\\tWord: {}, TF-IDF: {}\".format(word, round(score, 5)))"
   ]
  },
  {
   "cell_type": "code",
   "execution_count": 6,
   "metadata": {
    "collapsed": true
   },
   "outputs": [],
   "source": [
    "import nltk"
   ]
  },
  {
   "cell_type": "code",
   "execution_count": 8,
   "metadata": {
    "collapsed": false
   },
   "outputs": [
    {
     "name": "stdout",
     "output_type": "stream",
     "text": [
      "[nltk_data] Downloading package stopwords to\n",
      "[nltk_data]     /Users/sophie_chou/nltk_data...\n",
      "[nltk_data]   Unzipping corpora/stopwords.zip.\n"
     ]
    },
    {
     "data": {
      "text/plain": [
       "True"
      ]
     },
     "execution_count": 8,
     "metadata": {},
     "output_type": "execute_result"
    }
   ],
   "source": [
    "nltk.download('stopwords')"
   ]
  },
  {
   "cell_type": "code",
   "execution_count": null,
   "metadata": {
    "collapsed": true
   },
   "outputs": [],
   "source": [
    " "
   ]
  }
 ],
 "metadata": {
  "kernelspec": {
   "display_name": "Python 2",
   "language": "python",
   "name": "python2"
  },
  "language_info": {
   "codemirror_mode": {
    "name": "ipython",
    "version": 2
   },
   "file_extension": ".py",
   "mimetype": "text/x-python",
   "name": "python",
   "nbconvert_exporter": "python",
   "pygments_lexer": "ipython2",
   "version": "2.7.13"
  }
 },
 "nbformat": 4,
 "nbformat_minor": 2
}
